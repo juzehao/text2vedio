{
 "cells": [
  {
   "cell_type": "code",
   "execution_count": 1,
   "metadata": {},
   "outputs": [
    {
     "name": "stdout",
     "output_type": "stream",
     "text": [
      "[2024-03-25 07:39:41,631] [INFO] [real_accelerator.py:191:get_accelerator] Setting ds_accelerator to cuda (auto detect)\n"
     ]
    },
    {
     "data": {
      "application/vnd.jupyter.widget-view+json": {
       "model_id": "ea41663ada744e8195775b0c7d352304",
       "version_major": 2,
       "version_minor": 0
      },
      "text/plain": [
       "Loading checkpoint shards:   0%|          | 0/7 [00:00<?, ?it/s]"
      ]
     },
     "metadata": {},
     "output_type": "display_data"
    }
   ],
   "source": [
    "from transformers import AutoTokenizer, AutoModel\n",
    "tokenizer = AutoTokenizer.from_pretrained(\"/home/jzh/chat/ChatGLM3-main-2/THUDM/Users/zehaoju/chatglm3-6b\", trust_remote_code=True)\n",
    "model = AutoModel.from_pretrained(\"/home/jzh/chat/ChatGLM3-main-2/THUDM/Users/zehaoju/chatglm3-6b\", trust_remote_code=True, device='cuda')\n",
    "model = model.eval()\n"
   ]
  },
  {
   "cell_type": "code",
   "execution_count": 2,
   "metadata": {},
   "outputs": [],
   "source": [
    "txt=\"\\\"什，什么？竟然有三年级能够越级挑战六年级的学生，要知道六年级可能最接近的初中的存在，而且小学每个年级之间差的不只一星半点，竟然有三年级的学生敢挑战就六年级的学生，他是不想活了吗？\\\"在李村唯一的小学中，此时一大一小两个学生正在对峙，他们各自守着自己的课桌，强大的气场从他们身上散发出来。只见高的那个学生负手而立，面露不屑，用虽然不大，但是能够让所有人都能够听清的普通话，说道，\\\"就是你，想要跟我挑战吗？我可是六年级，你要想好了。\\\"围观的众人纷纷惊叹于他的普通话，要知道，普通话可不是那么容易就能够说的，而他的普通话竟然如此标准，就连教六年级的老师普通话水平也不过如此。而小的那个学生竟也丝毫不惧，用同样标准，甚至其中还夹杂着英语的普通话说，\\\"nice，那又怎么样呢？\\\"这句话英语一出震惊全场，竟然有人能够将英语夹杂在普通话之中，还用的毫无违和感，就算整个李村也没有人有这样的实力，此子年纪轻轻就有如此实力，等他成长起来哪还得了？恐怕连村长都要拉拢与他。而且，等到此子成长起来，怕是会威胁村里唯一有高中生的慕容家。——虽被这句英语给震撼到，但是大的那个学生还是故作镇定：\\\"白话版的《三国演义》跟《水浒》，够了吗？\\\"六年级的很自信，所以他才亮出底牌，这两本书是他在一个破旧的书摊上买来的，尽管他日日阅读，还是不解其中的意思，但一看就是高品阶的书籍。虽然那三年级露出的微笑让他很不爽，但比赛还是开始了。六年级的率先出手，\\\"苹果怎么说？\\\"\\\"apple。\\\"\\\"香蕉。\\\"\\\" banana\\\"\\\"……\\\"一番对战下来，两人皆已负伤，三年级的撑住桌子，最后发出攻势\\\"西瓜用英语怎么说呢？\\\"六年级的慌了，西瓜，他在学这个单词的时候请假上厕所了，所以没有学会，他是怎么知道的？六年级的瘫倒在地，好像被抽光了全身力气，三年级的那个继续暴击，\\\"Are you okay？\\\"六年级的彻底落败，但他趁着三年级的那个转身之时，趁着所有人不注意之时，向三年级的那个发起了攻击\\\"shit。\\\"但被三年级的轻松躲过。等他看向周围，才发现周围的人用惊恐的眼神的看着，他急忙辩解，说，\\\"我不是，我没有，你们听我解释。\\\"\\\"你不要再说了，你竟然私修魔道！\\\"\"\n",
    "txt2=\"这是一个神奇的世界，这里没有斗气、没有魔法，有的是神奇的武魂，每个人都拥有那种神奇的力量，能够帮助他们生活的更加方便。   生活在这个世界上的人类，成长到六岁的时候，都拥有觉醒一次武魂的机会。   武魂有器物、有植物、有动物。   其中，少部分人觉醒武魂之后，可以拥有魂力。   这部分天生拥有魂力的武魂，便可以修行，赋予人类强大的力量。   而这一部分人，便被称作：   魂师！   魂师是大陆上最为高贵的职业，有着常人难以想象的力量，普通人惧怕着魂师，敬畏着魂师，同时也渴望成为魂师。   但是，能否成为魂师，与武魂觉醒后，是否拥有先天魂力有关。   有先天魂力，就可以修行，有机会走向巅峰，成为真正的魂师。 而若是没有先天魂力，那么一切努力，都只是枉费心机。   \\\"先天魂力，即便我不修炼玄天功，应该也有的吧？\\\"   一道幼小的身影走在圣魂村的街道上，往村长家的方向而去，听着路边村民从田地回来后相互之间的闲聊，脸上露出若有所思的神色。   \\\"我是唐三，杰克爷爷，你在家吗？我又来了！\\\"   咚咚咚！   刚才那个人，名叫唐三。   而圣魂村的村长，正是附近一带村庄远近闻名的老好人——   老杰克！   \\\"咯吱！\\\"   被太阳炙烤得掉了红漆的大门缓缓打开，老杰克那佝偻的腰背、慈祥的面容，映入唐三的眼帘：\\\"小三，你过来了呀，爷爷已经准备好了早餐。\\\"   没等唐三再说什么，老杰克就拉着唐三走入了房屋里。   那干净整洁的桌子上，摆放着一盆米粥，一篮馒头，一碟咸菜，一碗鸡蛋。   对于乡下村民而言，即便是村长，吃的也不是很好。   不过，老杰克明显准备了多人份。   显而易见，唐三经常来这里蹭饭。   \\\"又麻烦你了，杰克爷爷。\\\"唐三自来熟的接过老杰克递过来的米粥，和馒头，大口喝着米粥，大口咬着馒头。   \\\"那个混蛋唐昊，真是可恶，都没有一点当父亲的样子。\\\"见唐三狼吞虎咽，老杰克不由又埋怨起唐昊来。   \\\"自从来到圣魂村后，我就没见过他像个人样。\\\"   \\\"刚来时，一开始还知道照顾伱，问村里人借奶水，但给你喂奶的时候，经常呛着你···等你长大一点，学会做饭做菜之后，他就完全放弃照顾你，什么都让你干。\\\"   \\\"他自己呢？就知道喝酒，睡觉，一个大男人，真不知怎么那么窝囊，就算没来圣魂村之前，受了苦，也没必要那么颓废吧？\\\"   \\\"他可一点都不知道怎么照顾孩子，家里都那么穷了，也不知道多赚点钱，为你这个儿子留下点家业。\\\"   \\\"打铁是个手艺活，可以吃饭，可惜他太懒，脾气又差，且就只知道喝酒···村子里的人都不敢去找他，还是找我，让我带着损坏的农具去找他。\\\"   \\\"真是的，小三，你以后可不能学你爸爸，他这辈子也就这样了，你不一样，很聪明，素云涛大师对你很喜欢呢。\\\"   老杰克上了年纪，很健谈，这或许是老人的通病。   不过，唐三没觉得老杰克也没有说错了什么，唐昊那家伙确实有点大毛病。   昊天宗的骄傲？      一点都没有再他身上体现。   有的，仅仅是那点卑微的可怜的自尊。   真不服气，养好伤，努力修炼，争取打回去呀！   若要说什么暗伤，难以恢复···唐三对此更是嗤之以鼻，受那么重的伤，还酗酒，能恢复才怪了。   只是，这些话，唐三都没有说，毕竟他此时只是一个小孩子，不该知道那么多，因此，他只是扶着年迈的老杰克进入屋子里，并给他捶背，然后帮忙干活。   实际上，现在的唐三，并不是原来那个从武侠世界穿越而来的唐三，而是现代的穿越者，经过九年义务教育，前世名叫唐川。   穿越后，\\\"川\\\"字由竖着变成横着了。   但可惜的是，对于另一个武侠世界的唐三的记忆，他只继承了玄天功、紫极魔瞳、玄玉手以及鬼影迷踪、控鹤擒龙这五样玄天宝录里的修炼功法。   那些暗器的制作、锻炼手法、药材辨认，以及最重要的仙草知识，那是一点都没有留下。   或许是因为他的穿越，导致武侠唐三的灵魂彻底破碎了，记忆散落，只留下了玄天宝录这一份武侠唐三念念不忘的秘籍。   若真是如此，唐三还得感谢前身的执着，不然自己连外挂都没有，怎么在这个斗罗大陆混？ \"\n",
    "# {第n部分文本：文本 图片描述：第n部分的背景描述语句},"
   ]
  },
  {
   "cell_type": "code",
   "execution_count": null,
   "metadata": {},
   "outputs": [],
   "source": [
    "def parse_text(text):\n",
    "    # ...你的 parse_text 函数代码...\n",
    "    # 使用正则表达式找到所有\"第n部分文本：\"和\"图片描述：\"之间的文本\n",
    "    text_parts = re.findall(r'第\\d+部分文本：(.*?)图片描述：', text, re.DOTALL)\n",
    "\n",
    "    # 清理每个文本段落，移除开头和结尾的空白字符，以及忽略\"\\n\"\n",
    "    text_parts = [part.strip().replace('\\n', '') for part in text_parts]\n",
    "\n",
    "    # 使用正则表达式找到所有\"图片描述：\"后面直到句号的文本\n",
    "    image_descriptions = re.findall(r'图片描述：(.*?)。', text, re.DOTALL)\n",
    "\n",
    "    # 清理每个图片描述，移除开头的空白字符，以及忽略\"\\n\"\n",
    "    image_descriptions = [desc.strip().replace('\\n', '') for desc in image_descriptions]\n",
    "\n",
    "    return text_parts, image_descriptions"
   ]
  },
  {
   "cell_type": "code",
   "execution_count": 16,
   "metadata": {},
   "outputs": [],
   "source": [
    "\n",
    "{第一部分文本：什么？竟然有三年级能够越级挑战六年级的学生}，图片描述：一个三年级的学生和六年级的学生正在对峙，两人各自守着自己的课桌，周围的人纷纷惊叹于他们的能力。\n",
    "\n",
    "{第二部分文本：只见高的那个学生负手而立，面露不屑，用虽然不大，但是能够让所有人都能够听清的普通话，说道，\"就是你，想要跟我挑战吗？我可是六年级，你要想好了。\"}，图片描述：高的那个学生负手而立，面露不屑，用标准的普通话挑战六年级的学生。\n",
    "\n",
    "{第三部分文本：而小的那个学生竟也丝毫不惧，用同样标准，甚至其中还夹杂着英语的普通话说，\"nice，那又怎么样呢？\"这句话英语一出震惊全场，竟然有人能够将英语夹杂在普通话之中，还用的毫无违和感。}，图片描述：小的那个学生毫不畏惧，用标准的普通话和英语回击六年级的学生。\n",
    "\n",
    "{第四部分文本：虽被这句英语给震撼到，但是大的那个学生还是故作镇定：\"白话版的《三国演义》跟《水浒》，够了吗？\"六年级的很自信，所以他才亮出底牌，这两本书是他在一个破旧的书摊上买来的，尽管他日日阅读，还是不解其中的意思，但一看就是高品阶的书籍。}，图片描述：大的那个学生故作镇定，亮出底牌，展示他珍藏的书籍。\n",
    "\n",
    "{第五部分文本：虽然那三年级露出的微笑让他很不爽，但比赛还是开始了。六年级的率先出手，\"苹果怎么说？\"}，图片描述：比赛开始，六年级的学生率先出手，向三年级的学生提问。"
   ]
  },
  {
   "cell_type": "code",
   "execution_count": 21,
   "metadata": {},
   "outputs": [],
   "source": [
    "response2, history = model.chat(tokenizer, \"将这段小说划分为5个部分，每个部分对应一个背景图片，你需要对该背景图片进行描述，描述语句包括：图片中人物的形象，动作，神态，所处的场景，描述语句不要出现对话。输出的格式为：{第n部分文本：文本 图片描述：第n部分的背景描述语句}，以下为小说：\"+response,history=[],temperature=0.1,max_length=10000)"
   ]
  },
  {
   "cell_type": "code",
   "execution_count": 23,
   "metadata": {},
   "outputs": [
    {
     "name": "stdout",
     "output_type": "stream",
     "text": [
      "第1部分文本：我拥有着神秘的武魂力量，使我生活得更加便捷。我六岁那年，觉醒了自己的武魂，我成为了一名魂师！\n",
      "图片描述：一个六岁的小男孩，身穿破旧的衣服，脸上露出觉醒武魂的喜悦和好奇。他站在一片绿草如茵的草地上，手中握着一把木剑，身后是一排排魂师学院的建筑。\n",
      "\n",
      "第2部分文本：我是唐三，杰克爷爷，我又来了！我走在圣魂村的街道上，听着路边村民的闲聊，脸上露出若有所思的神色。\n",
      "图片描述：一个年轻的男子，身穿白色长袍，手持长剑，脸上带着一丝疲倦，一丝期待，走在圣魂村的街道上，听着路边村民的闲聊。\n",
      "\n",
      "第3部分文本：\"咯吱！\" 杰克那佝偻的腰背、慈祥的面容，映入我的眼帘。\n",
      "图片描述：一个佝偻的老人，面容慈祥，正在 door 里制作食物，他的腰背弯曲，显得有些疲惫。\n",
      "\n",
      "第4部分文本：\"那个混蛋唐昊，真是可恶，都没有一点当父亲的样子。\" 杰克见我大口吃饭，又不满了唐昊。\n",
      "图片描述：杰克老人看着我大口吃饭，脸上露出不满的神色，他指向远处的一个男子，那个男子就是唐昊，正在喝酒，看起来十分颓废。\n",
      "\n",
      "第5部分文本：\"他可一点都不知道怎么照顾孩子，家里都那么穷了，也不知道多赚点钱，为你这个儿子留下点家业。\" 杰克继续说。\n",
      "图片描述：杰克老人摇摇头，脸上露出遗憾的神色，他看着我，又看着远处的唐昊，语气中充满了遗憾。\n"
     ]
    }
   ],
   "source": [
    "print(response2)"
   ]
  },
  {
   "cell_type": "code",
   "execution_count": null,
   "metadata": {},
   "outputs": [],
   "source": [
    "import io\n",
    "import cv2\n",
    "import base64\n",
    "import requests\n",
    "from PIL import Image\n",
    "\n",
    "\"\"\"\n",
    "    To use this example make sure you've done the following steps before executing:\n",
    "    1. Ensure automatic1111 is running in api mode with the controlnet extension. \n",
    "       Use the following command in your terminal to activate:\n",
    "            ./webui.sh --no-half --api\n",
    "    2. Validate python environment meet package dependencies.\n",
    "       If running in a local repo you'll likely need to pip install cv2, requests and PIL \n",
    "\"\"\"\n",
    "\n",
    "\n",
    "class ControlnetRequest:\n",
    "    def __init__(self, prompt, path):\n",
    "        self.url = \"http://localhost:7880/sdapi/v1/txt2img\"\n",
    "        self.prompt = prompt\n",
    "        self.img_path = path\n",
    "        self.body = None\n",
    "\n",
    "    def build_body(self):\n",
    "        self.body = {\n",
    "            \"prompt\": self.prompt,\n",
    "            \"negative_prompt\": \"\",\n",
    "            \"batch_size\": 1,\n",
    "            \"steps\": 20,\n",
    "            \"cfg_scale\": 7,\n",
    "            \"alwayson_scripts\": {\n",
    "                \"controlnet\": {\n",
    "                    \"args\": [\n",
    "                        {\n",
    "                            \"enabled\": True,\n",
    "                            \"module\": \"none\",\n",
    "                            \"model\": \"canny\",\n",
    "                            \"weight\": 1.0,\n",
    "                            \"image\": self.read_image(),\n",
    "                            \"resize_mode\": 1,\n",
    "                            \"lowvram\": False,\n",
    "                            \"processor_res\": 64,\n",
    "                            \"threshold_a\": 64,\n",
    "                            \"threshold_b\": 64,\n",
    "                            \"guidance_start\": 0.0,\n",
    "                            \"guidance_end\": 1.0,\n",
    "                            \"control_mode\": 0,\n",
    "                            \"pixel_perfect\": False\n",
    "                        }\n",
    "                    ]\n",
    "                }\n",
    "            }\n",
    "        }\n",
    "\n",
    "    def send_request(self):\n",
    "        response = requests.post(url=self.url, json=self.body)\n",
    "        return response.json()\n",
    "\n",
    "    def read_image(self):\n",
    "        img = cv2.imread(self.img_path)\n",
    "        retval, bytes = cv2.imencode('.png', img)\n",
    "        encoded_image = base64.b64encode(bytes).decode('utf-8')\n",
    "        return encoded_image\n",
    "\n",
    "\n",
    "if __name__ == '__main__':\n",
    "    path = 'stock_mountain.png'\n",
    "    prompt = 'a large avalanche'\n",
    "\n",
    "    control_net = ControlnetRequest(prompt, path)\n",
    "    control_net.build_body()\n",
    "    output = control_net.send_request()\n",
    "    print(output)\n",
    "    result = output['images'][0]\n",
    "\n",
    "    image = Image.open(io.BytesIO(base64.b64decode(result)))\n",
    "    image.show()\n"
   ]
  }
 ],
 "metadata": {
  "kernelspec": {
   "display_name": "chatglm3-demo",
   "language": "python",
   "name": "python3"
  },
  "language_info": {
   "codemirror_mode": {
    "name": "ipython",
    "version": 3
   },
   "file_extension": ".py",
   "mimetype": "text/x-python",
   "name": "python",
   "nbconvert_exporter": "python",
   "pygments_lexer": "ipython3",
   "version": "3.10.4"
  }
 },
 "nbformat": 4,
 "nbformat_minor": 2
}
